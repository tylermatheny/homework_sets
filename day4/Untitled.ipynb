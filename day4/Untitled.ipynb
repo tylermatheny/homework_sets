{
 "cells": [
  {
   "cell_type": "markdown",
   "metadata": {},
   "source": [
    "# Homework Set 4"
   ]
  },
  {
   "cell_type": "markdown",
   "metadata": {},
   "source": [
    "## Homework Problem 1\n",
    "\n",
    "1. Write a script that prompts the user to input numbers separated by commas. Your script will then take these inputted numbers and store them as a list of tuples, two at a time. Finally, your script will print that list of tuples to the user. If the user inputs an odd number of numbers, then only make a list of the largest number of pairs of two that are possible.\n",
    "\n",
    " Example: If you inputted the numbers `1, 2, 3, 4, 5, 6`, your script should print `[(1, 2), (3, 4), (5, 6)]`. If you inputted the numbers `1, 2, 3, 4, 5`, your script should print `[(1, 2), (3, 4)]`.\n",
    "\n",
    " **Hint**: Check out the [zip](https://docs.python.org/3/library/functions.html#zip) function. While you don't have to use it, it could make things easier.\n"
   ]
  },
  {
   "cell_type": "code",
   "execution_count": null,
   "metadata": {},
   "outputs": [],
   "source": [
    "num_string = input('Please input numbers separated by commas: ')\n",
    "var = num_string.split(', ')\n",
    "tuple_list = [two for two in zip(var[::2], var[1::2])]\n",
    "\n",
    "print(tuple_list)\n",
    "    "
   ]
  },
  {
   "cell_type": "code",
   "execution_count": null,
   "metadata": {},
   "outputs": [],
   "source": [
    "num_string = input('Please input numbers separated by commas: ')\n",
    "var = num_string.split(', ')\n",
    "tuples_lst = []\n",
    "for x in range(len(var)):\n",
    "    if x % 2 == 0 :\n",
    "        tuples_lst.append((var[x],var[x+1]))\n",
    "print(tuples_lst)\n",
    "    "
   ]
  },
  {
   "cell_type": "markdown",
   "metadata": {},
   "source": [
    "### Part 2 - Practice with Dictionaries\n",
    "\n",
    "Write a script that prompts the user to input numbers separated by dashes ( - ). Your script will take those numbers, and print a dictionary where the keys are the inputted numbers, and the values are the squares of those numbers.\n",
    "\n",
    " Example: If you inputted the numbers `1 - 5 - 8 - 10`, your script should print `{8: 64, 1: 1, 10: 100, 5: 25}` (remember that dictionaries are unordered, which is why the script might print out the key-value pairs in a different order than the user inputted the numbers).\n",
    "\n"
   ]
  },
  {
   "cell_type": "code",
   "execution_count": null,
   "metadata": {
    "collapsed": true
   },
   "outputs": [],
   "source": []
  },
  {
   "cell_type": "code",
   "execution_count": null,
   "metadata": {},
   "outputs": [],
   "source": [
    "num_string = input('Please input numbers separated by commas: ')\n",
    "var = num_string.split(' - ')\n",
    "mydict = {}\n",
    "for x in var:\n",
    "    num = int(x)\n",
    "    mydict[num] = num ** 2\n",
    "print(mydict)"
   ]
  },
  {
   "cell_type": "code",
   "execution_count": null,
   "metadata": {},
   "outputs": [],
   "source": [
    "nums_str_list = input('Please input numbers separated by dashes: ').split(' - ')\n",
    "\n",
    "square_dict = {int(x): int(x) ** 2 for x in nums_str_list}\n",
    "\n",
    "print(square_dict)"
   ]
  },
  {
   "cell_type": "markdown",
   "metadata": {},
   "source": [
    "Write a script that prompts the user for a state name. It will then check that state name against the dictionary below to give back the capital of that state. However, you'll notice that the dictionary doesn't know the capitals for all the states. If the user inputs the name of a state that isn't in the dictionary, your script should print that the capital is unknown.\n",
    "\n",
    " ```python\n",
    "    state_dictionary = {'Colorado': 'Denver', 'Alaska': 'Juneau', 'California': 'Sacramento',\n",
    "                        'Georgia': 'Atlanta', 'Kansas': 'Topeka', 'Nebraska': 'Lincoln',\n",
    "                        'Oregon': 'Salem', 'Texas': 'Austin', 'New York': 'Albany'}\n",
    " ```\n",
    "\n",
    " Example: If you inputted the state name `Kansas`, your script should print `Topeka`. If you inputted the state name `Washington`, your script should print `Capital unknown`.\n",
    "\n",
    "  How could you make it so that your script isn't sensitive to the case of the inputted state? (**Hint**: one of the easiest ways is by changing the state dictionary slightly and using a method on your input string.)"
   ]
  },
  {
   "cell_type": "code",
   "execution_count": null,
   "metadata": {},
   "outputs": [],
   "source": [
    "state_dictionary = {'colorado': 'Denver', 'alaska': 'juneau', 'california': 'Sacramento',\n",
    "                        'georgia': 'Atlanta', 'kansas': 'Topeka', 'nebraska': 'Lincoln',\n",
    "                        'oregon': 'Salem', 'texas': 'Austin', 'new york': 'Albany'}\n",
    "usr_state = input('State: ').lower()\n",
    "\n",
    "if usr_state in state_dictionary: \n",
    "    print(state_dictionary[usr_state])\n",
    "else:\n",
    "    print('Capital unknown')"
   ]
  },
  {
   "cell_type": "markdown",
   "metadata": {},
   "source": [
    "Write a script that will continually prompt the user for a set of three things to be separated by commas. The first two things will be (x, y) coordinates of the word that follows (the word will be the third thing). So the user will input a string that is formatted like `x, y, word`. Your script will use the string to build a dictionary with the first two inputs (i.e. the (x, y)) from each string as keys to a dictionary, and the third input (the word) as the value for that key. The script will continually prompt the user to input strings in this format until the user inputs nothing (i.e. hits enter with no input).\n",
    "\n",
    " After building the dictionary, your script should allow the user to query the dictionary it built by accepting strings of the format `x, y`. It should check if the coordinate is in the dictionary, and if it is return the corresponding word. If it isn't, it should print `Coordinate not found`. This should continue until the user inputs the letter `q`, at which point the script should exit.\n"
   ]
  },
  {
   "cell_type": "code",
   "execution_count": null,
   "metadata": {},
   "outputs": [],
   "source": [
    "coordinate_map = {}\n",
    "while True:\n",
    "    x = input('Enter x-coordinate: ')\n",
    "    if not x:\n",
    "        break\n",
    "    y = input('Enter y-coordinate: ')\n",
    "    word = input('Enter a word: ')\n",
    "    coordinate_map[(x, y)] = word\n",
    "print(coordinate_map)\n",
    "\n",
    "while True:\n",
    "    xcoordinate = input('Enter x coordinate: ') \n",
    "    if xcoordinate == 'q':\n",
    "        break\n",
    "    ycoordinate = input('Enter y coordinate: ')\n",
    "    coordinate = (xcoordinate, ycoordinate)\n",
    "    if coordinate in coordinate_map:\n",
    "        print(coordinate_map[(coordinate)])\n",
    "    else:\n",
    "        print('Coordinate not found')\n",
    "\n"
   ]
  },
  {
   "cell_type": "markdown",
   "metadata": {},
   "source": [
    "### Part 3 - Practice with Sets\n",
    "\n",
    "Write a script that prompts the user to input numbers separated by commas, and then does so again. It should then print those numbers that were common in both entries.\n",
    "\n",
    " Example: If you inputted the numbers `1, 2, 3, 5, 6` first, and `2, 3, 4, 6, 7` second, your script should print `2, 3, 6`. Make sure to use sets, as they are optimal for this problem.\n",
    "\n",
    " **Hint**: For the output to be formatted in the prescribed way, you could use the `join()` method available on strings.\n"
   ]
  },
  {
   "cell_type": "code",
   "execution_count": null,
   "metadata": {},
   "outputs": [],
   "source": [
    "words = input('Please enter a list of words: ').split(', ')\n",
    "x = (', '.join(set(words)))\n",
    "     "
   ]
  },
  {
   "cell_type": "markdown",
   "metadata": {},
   "source": [
    "Write a script that continually accepts a word from the user. As it does, it should add the word to a set. If the user enters the letter `v`, your script should display all the known words, it's vocabulary. This will continue until the user enters the letter `q`, which should quit the program.\n",
    "\n",
    " Example usage:\n",
    " ```\n",
    " Enter a word to add to the vocabulary: thing\n",
    " Enter a word to add to the vocabulary: stuff\n",
    " Enter a word to add to the vocabulary: v\n",
    " thing stuff\n",
    " Enter a word to add to the vocabulary: hello\n",
    " Enter a word to add to the vocabulary: v\n",
    " thing stuff hello\n",
    " Enter a word to add to the vocabulary: q\n"
   ]
  },
  {
   "cell_type": "code",
   "execution_count": null,
   "metadata": {},
   "outputs": [
    {
     "name": "stdout",
     "output_type": "stream",
     "text": [
      "stuff: tyler \n",
      "stuff: bear\n",
      "stuff: snfjbv\n",
      "stuff: sjfkav\n",
      "stuff: v\n",
      "snfjbv sjfkav bear tyler \n"
     ]
    }
   ],
   "source": [
    "voca = set()\n",
    "while True:\n",
    "    x = input('stuff: ')\n",
    "    if x =='v':\n",
    "        print(' '.join(voca))\n",
    "    elif x == 'q':\n",
    "        break\n",
    "    voca.add(x)\n",
    "       "
   ]
  },
  {
   "cell_type": "code",
   "execution_count": null,
   "metadata": {
    "collapsed": true
   },
   "outputs": [],
   "source": [
    "voca = set()"
   ]
  },
  {
   "cell_type": "code",
   "execution_count": null,
   "metadata": {
    "collapsed": true
   },
   "outputs": [],
   "source": [
    "voca."
   ]
  }
 ],
 "metadata": {
  "kernelspec": {
   "display_name": "Python 3",
   "language": "python",
   "name": "python3"
  }
 },
 "nbformat": 4,
 "nbformat_minor": 2
}
