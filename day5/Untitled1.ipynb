{
 "cells": [
  {
   "cell_type": "code",
   "execution_count": 4,
   "metadata": {},
   "outputs": [],
   "source": [
    "def check_known_elsa_fans(name):\n",
    "    \"\"\"Check if the inputted person is an Elsa fan.\n",
    "    Args:\n",
    "        name: str\n",
    "    \"\"\"\n",
    "\n",
    "    # Note how everything is lowercase here. When working with text like this,\n",
    "    # lowercasing is often a good idea, since we don't want to differentiate\n",
    "    # between Cary and cary. Both of these are the same to us, and we want the\n",
    "    # code to reflect this.\n",
    "    known_elsa_fans = ('sean' , 'cary', 'josh')\n",
    "\n",
    "    if name.lower() in known_elsa_fans:\n",
    "        return True\n",
    "    else:\n",
    "        return False\n"
   ]
  },
  {
   "cell_type": "code",
   "execution_count": 7,
   "metadata": {},
   "outputs": [
    {
     "data": {
      "text/plain": [
       "True"
      ]
     },
     "execution_count": 7,
     "metadata": {},
     "output_type": "execute_result"
    }
   ],
   "source": [
    "check_known_elsa_fans('Cary')"
   ]
  },
  {
   "cell_type": "code",
   "execution_count": null,
   "metadata": {
    "collapsed": true
   },
   "outputs": [],
   "source": []
  }
 ],
 "metadata": {
  "kernelspec": {
   "display_name": "Python 3",
   "language": "python",
   "name": "python3"
  },
  "language_info": {
   "codemirror_mode": {
    "name": "ipython",
    "version": 3
   },
   "file_extension": ".py",
   "mimetype": "text/x-python",
   "name": "python",
   "nbconvert_exporter": "python",
   "pygments_lexer": "ipython3",
   "version": "3.6.3"
  }
 },
 "nbformat": 4,
 "nbformat_minor": 2
}
