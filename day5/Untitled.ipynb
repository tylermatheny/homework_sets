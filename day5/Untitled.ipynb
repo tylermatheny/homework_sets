{
 "cells": [
  {
   "cell_type": "markdown",
   "metadata": {},
   "source": [
    "Remember the song '99 bottles of beer on the wall'? Well, we've written a function that will take in a number (`n`), and we want you to complete it such that it prints a line from the song. `n` will hold the number of bottles of beer on the wall, and we want you to complete the function assuming that there are `n` bottles of beer on the wall. After completing it, test that it works by calling it some number of times.\n",
    "\n",
    " ```python\n",
    "    def calc_beers_on_the_wall(n=99):\n",
    "        \"\"\"Print how many beers remain on the wall.\n",
    "\n",
    "        Args:\n",
    "            n: int\n",
    "                Holds the number of beers that remain on the wall.\n",
    "        \"\"\"\n",
    "        pass\n",
    "```"
   ]
  },
  {
   "cell_type": "code",
   "execution_count": null,
   "metadata": {},
   "outputs": [],
   "source": [
    "def calc_beers_on_the_wall(n=99):\n",
    "    print(str(n) + ' bottes of beer on the wall')"
   ]
  },
  {
   "cell_type": "code",
   "execution_count": null,
   "metadata": {},
   "outputs": [],
   "source": [
    "calc_beers_on_the_wall(76)"
   ]
  },
  {
   "cell_type": "code",
   "execution_count": null,
   "metadata": {},
   "outputs": [],
   "source": [
    "def calc_beers_on_the_wall(n=99):\n",
    "    print('{} bottes of beer on the wall'.format(n))"
   ]
  },
  {
   "cell_type": "code",
   "execution_count": null,
   "metadata": {},
   "outputs": [],
   "source": [
    "calc_beers_on_the_wall(76)"
   ]
  },
  {
   "cell_type": "markdown",
   "metadata": {},
   "source": [
    "Remember [Elsa](http://pre11.deviantart.net/7144/th/pre/f/2014/027/b/d/let_it_go_by_impala99-d740xws.png) from `Frozen`? We've heard mixed reviews of her song 'Let It Go'. We've written a function below that will take in a boolean (the `fan` parameter), where this boolean holds whether or not a person is in favor of 'Let It Go' (i.e. if `fan` is `True`, they are in favor, and if it is `False`, they are not in favor). We want you to complete the function such that:\n",
    "\n",
    " * If the person is a fan, then it prints \"I love Elsa! She's my favorite!\"\n",
    " * If the person is not a fan, then it prints \"Let It Go, it's not that great.\"  \n",
    "\n",
    " ```python\n",
    "    def check_elsa_fan(fan):\n",
    "        \"\"\"Print a certain phrase depending on the value of fan.\n",
    "\n",
    "        Args:\n",
    "            fan: boolean\n",
    "        \"\"\"\n",
    "        pass\n",
    "```\n",
    "\n",
    " * Change the function definition so that it **defaults** to the person being a fan. Try calling your function both with and without arguments now - how does this effect what gets printed out?"
   ]
  },
  {
   "cell_type": "code",
   "execution_count": null,
   "metadata": {},
   "outputs": [],
   "source": [
    "def check_elsa_fan(fan = True):\n",
    "    if fan:\n",
    "        print(\"I love Elsa! She's my favorite!\")\n",
    "    else:\n",
    "        print(\"Let It Go, it's not that great.\")\n",
    "    "
   ]
  },
  {
   "cell_type": "code",
   "execution_count": 3,
   "metadata": {},
   "outputs": [
    {
     "name": "stdout",
     "output_type": "stream",
     "text": [
      "I love Elsa! She's my favorite!\n"
     ]
    }
   ],
   "source": [
    "check_elsa_fan()"
   ]
  },
  {
   "cell_type": "markdown",
   "metadata": {},
   "source": [
    "For this next set of problems, you're going to get a block of code that solves some problem (which we'll describe). Your goal is to write a function definition statement that uses that block of code (this is the opposite of what we did in the first part).  \n",
    "\n",
    "3. Below, I've written a line of code that will print `Hello, <name>`, where `name` will be a parameter in the function definition. Write a function that takes in one parameter, `name`, and then uses the line of code below to print 'Hello' to that `name`.   \n",
    "\n",
    " ```python\n",
    " print('Hello {}'.format(name))\n",
    " ```\n",
    "\n",
    " * Did you write the function definition according to the verb/noun adage? Does your function have a good name that at least hints at what it does?\n",
    " * Test out your function by passing in different values for `name`. Does it print the expected output?\n",
    " * Now, alter your function definition such that it **by default** says hello to \"Josh\" if no value for `name` is passed in."
   ]
  },
  {
   "cell_type": "code",
   "execution_count": 4,
   "metadata": {},
   "outputs": [],
   "source": [
    "def hello(name = 'No name'):\n",
    "    print('Hello {}'.format(name))"
   ]
  },
  {
   "cell_type": "code",
   "execution_count": 5,
   "metadata": {},
   "outputs": [
    {
     "name": "stdout",
     "output_type": "stream",
     "text": [
      "Hello No name\n"
     ]
    }
   ],
   "source": [
    "hello()"
   ]
  },
  {
   "cell_type": "code",
   "execution_count": 13,
   "metadata": {},
   "outputs": [],
   "source": [
    "def print_name(name):\n",
    "    \"\"\"Prints hello to the inputted name.\n",
    "    Args:\n",
    "        name: str\n",
    "    \"\"\"\n",
    "\n",
    "    print('Hello {}'.format(name))"
   ]
  },
  {
   "cell_type": "code",
   "execution_count": 15,
   "metadata": {},
   "outputs": [
    {
     "name": "stdout",
     "output_type": "stream",
     "text": [
      "Hello Tyler\n"
     ]
    }
   ],
   "source": [
    "print_name('Tyler')"
   ]
  },
  {
   "cell_type": "markdown",
   "metadata": {},
   "source": [
    "4. Now for something a tad more intricate. Below is some code that relies on two unknowns, `n` and `potential_divisor`. This code returns a `True` or `False` depending on whether or not `n` is evenly divisible by `potential_divisor`. Your first goal is to write a function that accepts these two parameters in its definition and has the code below as its body.\n",
    "\n",
    " `return n % potential_divisor == 0`\n",
    "\n",
    " * First off, how/why does this work? Why does it return either a `True` or `False`?\n",
    " * After building your function definition, test it out to make sure that it works correctly (remember that it should take in two parameters, `n` and `potenial_divisor`).  \n",
    " * Now, alter your function definition so that **by default** the `divisor` is equal to 2 (i.e. by default it just checks if the inputted `n` is even). Now that you've made one of the parameters have a default, what stipulations come with that change (*Hint*: Remember, order of the parameters now matters).   \n",
    " * Now that we've got two parameters, try calling them *by position* and *by keyword*, and mixing the two (e.g. one argument by position and the other by keyword, and vice versa). What stipulations come with these kinds of calls (*Hint*: Remember, order matters)?\n"
   ]
  },
  {
   "cell_type": "code",
   "execution_count": 16,
   "metadata": {
    "collapsed": true
   },
   "outputs": [],
   "source": [
    "def divisible(n, potential_divisor):\n",
    "    return n % potential_divisor == 0"
   ]
  },
  {
   "cell_type": "code",
   "execution_count": 17,
   "metadata": {},
   "outputs": [
    {
     "data": {
      "text/plain": [
       "True"
      ]
     },
     "execution_count": 17,
     "metadata": {},
     "output_type": "execute_result"
    }
   ],
   "source": [
    "divisible(6, 3)"
   ]
  },
  {
   "cell_type": "code",
   "execution_count": 18,
   "metadata": {},
   "outputs": [
    {
     "data": {
      "text/plain": [
       "False"
      ]
     },
     "execution_count": 18,
     "metadata": {},
     "output_type": "execute_result"
    }
   ],
   "source": [
    "divisible(7,3)"
   ]
  },
  {
   "cell_type": "code",
   "execution_count": 19,
   "metadata": {
    "collapsed": true
   },
   "outputs": [],
   "source": [
    "def divisible(n, potential_divisor = 2):\n",
    "    return n % potential_divisor == 0"
   ]
  },
  {
   "cell_type": "code",
   "execution_count": 20,
   "metadata": {},
   "outputs": [
    {
     "data": {
      "text/plain": [
       "False"
      ]
     },
     "execution_count": 20,
     "metadata": {},
     "output_type": "execute_result"
    }
   ],
   "source": [
    "divisible(5)"
   ]
  },
  {
   "cell_type": "markdown",
   "metadata": {},
   "source": [
    "\n",
    "### Part 1 - Basic Practice\n",
    "\n",
    "For the first part of the assignment, we're going to get some practice taking code we've already written and making it a function. Let's work with a couple of the scripts that we wrote for `intro_python_assignment.md` in Week 1, Day 2.\n",
    "\n",
    "Let's start by making changing problems three and four from that assignment into functions (for extra practice you could do this with the rest of the problems that we worked through in those assignments). Below are the original problem statements. To move these to functions, we will no longer take user input, but instead pass an argument(s) into a function and consider that to be the \"user input\".\n",
    "\n",
    "If you haven't written a solution to these problems feel free to use the solution's code. While you could also try to solve this problem, the point of this part is to get you practice with functions by using code you've already written. The idea is that you can get practice moving already existing code into functions.\n",
    "\n",
    "1. Write a function that computes and prints all of the divisors of a user inputted number.\n",
    "\n",
    " * Here we won't take a user inputted number, but build a function that accepts one parameter, a number, and then computes all the divisors of that number. The solution to the previous assignment *might* need to be modified for it to work in a function.\n",
    "\n",
    "2.  Write a function that computes the least common multiple between two user inputted numbers.\n",
    "\n",
    " * Here we won't take any user inputted numbers, but build a function that accepts two numbers as parameters, and then computes the least common multiple of those two numbers. Again, whatever code you have that does this *might* have to be modified to work in a function.\n"
   ]
  },
  {
   "cell_type": "code",
   "execution_count": 27,
   "metadata": {},
   "outputs": [],
   "source": [
    "def divisible_by(num):\n",
    "    return [x for x in range(1,num + 1) if num % x == 0]"
   ]
  },
  {
   "cell_type": "code",
   "execution_count": 33,
   "metadata": {},
   "outputs": [
    {
     "data": {
      "text/plain": [
       "[1, 3, 31, 93]"
      ]
     },
     "execution_count": 33,
     "metadata": {},
     "output_type": "execute_result"
    }
   ],
   "source": [
    "divisible_by(93)"
   ]
  },
  {
   "cell_type": "code",
   "execution_count": 44,
   "metadata": {},
   "outputs": [],
   "source": [
    "def least_common_multiple(var1, var2):\n",
    "    idx = var1\n",
    "    if idx > var2:\n",
    "        idx = var2\n",
    "    while idx > 0:\n",
    "        if idx % var1 == 0 and idx % var2 == 0:\n",
    "            break\n",
    "        idx += 1\n",
    "    return idx"
   ]
  },
  {
   "cell_type": "code",
   "execution_count": 45,
   "metadata": {},
   "outputs": [
    {
     "data": {
      "text/plain": [
       "220"
      ]
     },
     "execution_count": 45,
     "metadata": {},
     "output_type": "execute_result"
    }
   ],
   "source": [
    "least_common_multiple(55, 20)"
   ]
  },
  {
   "cell_type": "markdown",
   "metadata": {},
   "source": [
    "\n",
    "### Part 2 - Advanced Practice\n",
    "\n",
    "Now we're going to work our problem solving and programming skills by coding up functions to solve new problems.  \n",
    "\n",
    "1. Write a function that figures out whether or not we have any beers left on our wall. It should take in a number, and then print 'No beers left' if we are at the end (i.e. there are `0` beers left) or 'Beers left!' if we are not at the end (i.e. there are not `0` beers left).\n",
    "2. Let's imagine that I know all of the Elsa fans out there, and they're just Cary, Josh, and Sean (it's okay, we're the three best friends anybody could ever have). Write a function that takes a `name`, and then returns a `True` or `False` as to whether or not they are an Elsa fan. You can use the knowledge that if they aren't Cary, Josh, or Sean, they aren't an Elsa fan. Also, remember that checking membership using a `set` is incredibly fast! Try to use a `set` if you can.\n",
    "3. Write a function that computes the sum of the numbers in an inputted list. Use a `for` loop to do this. When you're done, look up the [sum](https://docs.python.org/3/library/functions.html#sum) function (and notice that this does the same thing as what you just wrote!). \n",
    "\n",
    " * Example: If I input `[1, 2, 3]`, your function should return `6` (1 + 2 + 3 = 6).\n",
    "\n",
    "4. Write a function that computes the product of the numbers in an inputted list. Use a `for` loop to do this as well.  \n",
    "\n",
    " * Example: If I input `[2, 3, 4]`, your function should return `24` (2 * 3 * 4 = 24).\n",
    "\n",
    "5. Write a function that takes in an arbitrary list, and returns a list of the numbers in that list that are even.\n",
    "\n",
    " * Example: If I input `[2, 4, 5, 7, 10]`, your function should return `[2, 4, 10]`."
   ]
  },
  {
   "cell_type": "code",
   "execution_count": 46,
   "metadata": {
    "collapsed": true
   },
   "outputs": [],
   "source": [
    "def beer_left(n = 99):\n",
    "    if n > 0:\n",
    "        print('Beers left!')\n",
    "    if n < 0:\n",
    "        print('anti-beer?')\n",
    "    else:\n",
    "        print('Beer Run!')"
   ]
  },
  {
   "cell_type": "code",
   "execution_count": 47,
   "metadata": {},
   "outputs": [
    {
     "name": "stdout",
     "output_type": "stream",
     "text": [
      "Beer Run!\n"
     ]
    }
   ],
   "source": [
    "beer_left(0)"
   ]
  },
  {
   "cell_type": "code",
   "execution_count": 87,
   "metadata": {
    "collapsed": true
   },
   "outputs": [],
   "source": [
    "def elsa2_fan(name): \n",
    "    fans = ('cory', 'josh', 'sean')\n",
    "    if name.lower in fans:\n",
    "        print('Elsa fan')\n",
    "    else:\n",
    "        print('Frozen sucks!')\n",
    "        "
   ]
  },
  {
   "cell_type": "code",
   "execution_count": 88,
   "metadata": {},
   "outputs": [
    {
     "ename": "NameError",
     "evalue": "name 'Cory' is not defined",
     "output_type": "error",
     "traceback": [
      "\u001b[0;31m---------------------------------------------------------------------------\u001b[0m",
      "\u001b[0;31mNameError\u001b[0m                                 Traceback (most recent call last)",
      "\u001b[0;32m<ipython-input-88-eb7bf2512396>\u001b[0m in \u001b[0;36m<module>\u001b[0;34m()\u001b[0m\n\u001b[0;32m----> 1\u001b[0;31m \u001b[0melsa2_fan\u001b[0m\u001b[0;34m(\u001b[0m\u001b[0mCory\u001b[0m\u001b[0;34m)\u001b[0m\u001b[0;34m\u001b[0m\u001b[0m\n\u001b[0m",
      "\u001b[0;31mNameError\u001b[0m: name 'Cory' is not defined"
     ]
    }
   ],
   "source": [
    "elsa2_fan(Cory)"
   ]
  },
  {
   "cell_type": "code",
   "execution_count": 79,
   "metadata": {
    "collapsed": true
   },
   "outputs": [],
   "source": [
    "def list_sum2(list_num):\n",
    "    tot = 0\n",
    "    for num in list_num:\n",
    "        tot += num\n",
    "    return tot \n",
    "        "
   ]
  },
  {
   "cell_type": "code",
   "execution_count": 80,
   "metadata": {},
   "outputs": [],
   "source": [
    "x = 1, 3, 5, 7, 13894"
   ]
  },
  {
   "cell_type": "code",
   "execution_count": 81,
   "metadata": {},
   "outputs": [
    {
     "data": {
      "text/plain": [
       "13910"
      ]
     },
     "execution_count": 81,
     "metadata": {},
     "output_type": "execute_result"
    }
   ],
   "source": [
    "list_sum2(x)"
   ]
  },
  {
   "cell_type": "code",
   "execution_count": 82,
   "metadata": {
    "collapsed": true
   },
   "outputs": [],
   "source": [
    "def mult_list(list_num):\n",
    "    tot = 1\n",
    "    for num in list_num:\n",
    "        tot *= num\n",
    "    return tot "
   ]
  },
  {
   "cell_type": "code",
   "execution_count": 83,
   "metadata": {
    "collapsed": true
   },
   "outputs": [],
   "source": [
    "x = 1, 5, 7, 9,"
   ]
  },
  {
   "cell_type": "code",
   "execution_count": 84,
   "metadata": {},
   "outputs": [
    {
     "data": {
      "text/plain": [
       "315"
      ]
     },
     "execution_count": 84,
     "metadata": {},
     "output_type": "execute_result"
    }
   ],
   "source": [
    "mult_list(x)"
   ]
  },
  {
   "cell_type": "code",
   "execution_count": 85,
   "metadata": {},
   "outputs": [
    {
     "name": "stdout",
     "output_type": "stream",
     "text": [
      "(1, 5, 7, 9)\n"
     ]
    }
   ],
   "source": [
    "print(x)"
   ]
  },
  {
   "cell_type": "code",
   "execution_count": 86,
   "metadata": {},
   "outputs": [
    {
     "data": {
      "text/plain": [
       "315"
      ]
     },
     "execution_count": 86,
     "metadata": {},
     "output_type": "execute_result"
    }
   ],
   "source": [
    "mult_list((1,5,7,9))"
   ]
  },
  {
   "cell_type": "code",
   "execution_count": null,
   "metadata": {
    "collapsed": true
   },
   "outputs": [],
   "source": []
  }
 ],
 "metadata": {
  "kernelspec": {
   "display_name": "Python 3",
   "language": "python",
   "name": "python3"
  },
  "language_info": {
   "codemirror_mode": {
    "name": "ipython",
    "version": 3
   },
   "file_extension": ".py",
   "mimetype": "text/x-python",
   "name": "python",
   "nbconvert_exporter": "python",
   "pygments_lexer": "ipython3",
   "version": "3.6.3"
  }
 },
 "nbformat": 4,
 "nbformat_minor": 2
}
