{
 "cells": [
  {
   "cell_type": "code",
   "execution_count": null,
   "metadata": {},
   "outputs": [],
   "source": [
    "board = [(0,0),(1,0),(2,0),(0,1),(1,1),(1,2),[(0,2),(1,2),(2,2)]"
   ]
  },
  {
   "cell_type": "code",
   "execution_count": null,
   "metadata": {},
   "outputs": [],
   "source": [
    "board"
   ]
  },
  {
   "cell_type": "code",
   "execution_count": null,
   "metadata": {},
   "outputs": [
    {
     "name": "stdout",
     "output_type": "stream",
     "text": [
      "player1 move: 1\n",
      "['X', '2', '3', '4', '5', '6', '7', '8', '9']\n",
      "['1']\n",
      "player2 move: 2\n",
      "['X', '3', '4', '5', '6', '7', '8', '9']\n",
      "player1 move: 3\n",
      "['X', '3', '4', '5', '6', '7', '8', '9']\n",
      "['1', '3']\n",
      "player2 move: 4\n",
      "['X', '3', '5', '6', '7', '8', '9']\n",
      "player1 move: 5\n",
      "['X', '3', '5', '6', '7', '8', '9']\n",
      "['1', '3', '5']\n",
      "player2 move: 6\n",
      "['X', '3', '5', '7', '8', '9']\n",
      "player1 move: 7\n",
      "['X', '3', '5', '7', '8', '9']\n",
      "['1', '3', '5', '7']\n",
      "player2 move: 8\n",
      "['X', '3', '5', '7', '9']\n",
      "player1 move: 9\n",
      "['X', '3', '5', '7', '9']\n",
      "['1', '3', '5', '7', '9']\n",
      "player2 move: 2\n",
      "occupied3\n",
      "player2 move: 5\n",
      "['X', '3', '7', '9']\n",
      "player1 move: 3\n",
      "['X', '3', '7', '9']\n",
      "['1', '3', '5', '7', '9', '3']\n",
      "player2 move: 1\n",
      "occupied2\n",
      "player2 move: 3\n",
      "['X', '7', '9']\n",
      "player1 move: 4\n",
      "occupied5\n",
      "player1 move: 6\n",
      "occupied7\n",
      "player1 move: 7\n",
      "['X', '7', '9']\n",
      "['1', '3', '5', '7', '9', '3', '7']\n",
      "player2 move: 8\n",
      "occupied9\n",
      "player2 move: \n"
     ]
    }
   ],
   "source": [
    "x = 1\n",
    "a = 1\n",
    "b = 1\n",
    "plyr1_moves = []\n",
    "plyr2_moves = []\n",
    "board = ['1','2','3','4','5','6','7','8','9']\n",
    "while x > 0:\n",
    "    \n",
    "    while a > 0:\n",
    "        plyr1_move = input('player1 move: ')\n",
    "        if plyr1_move in board:\n",
    "            board[ply1 - 1] = str('X')\n",
    "            print(board)\n",
    "            plyr1_moves.append(plyr1_move)\n",
    "            print(plyr1_moves)\n",
    "            break\n",
    "        else:\n",
    "            plyr1_move = input('occupied')\n",
    "            a += 1\n",
    "    while b > 0:\n",
    "        plyr2_move = input('player2 move: ')\n",
    "        if plyr2_move in board:\n",
    "            board.remove(plyr2_move)\n",
    "            print(board)\n",
    "            plyr2_moves.append(plyr2_move)\n",
    "            break\n",
    "        else:\n",
    "            plyr1_move = input('occupied')\n",
    "            b += 1 \n",
    "x += 1"
   ]
  },
  {
   "cell_type": "code",
   "execution_count": 50,
   "metadata": {},
   "outputs": [
    {
     "name": "stdout",
     "output_type": "stream",
     "text": [
      "plyr1: 1\n",
      "['X', '2', '3', '4', '5', '6', '7', '8', '9']\n"
     ]
    }
   ],
   "source": [
    "board = ['1','2','3','4','5','6','7','8','9']\n",
    "ply1 = int(input('plyr1: '))\n",
    "board[ply1 - 1] = str('X')\n",
    "print(board)"
   ]
  },
  {
   "cell_type": "code",
   "execution_count": 8,
   "metadata": {
    "collapsed": true
   },
   "outputs": [],
   "source": []
  },
  {
   "cell_type": "code",
   "execution_count": 10,
   "metadata": {},
   "outputs": [
    {
     "name": "stdout",
     "output_type": "stream",
     "text": [
      "[1, 2, 3]\n",
      "[4, 5, 6]\n",
      "[7, 8, 9]\n"
     ]
    }
   ],
   "source": []
  },
  {
   "cell_type": "code",
   "execution_count": 18,
   "metadata": {},
   "outputs": [
    {
     "name": "stdout",
     "output_type": "stream",
     "text": [
      "player1 move: 1\n"
     ]
    },
    {
     "ename": "TypeError",
     "evalue": "list indices must be integers or slices, not list",
     "output_type": "error",
     "traceback": [
      "\u001b[0;31m---------------------------------------------------------------------------\u001b[0m",
      "\u001b[0;31mTypeError\u001b[0m                                 Traceback (most recent call last)",
      "\u001b[0;32m<ipython-input-18-45833f4761ac>\u001b[0m in \u001b[0;36m<module>\u001b[0;34m()\u001b[0m\n\u001b[1;32m      8\u001b[0m     \u001b[0mplyr1_move\u001b[0m \u001b[0;34m=\u001b[0m \u001b[0mint\u001b[0m\u001b[0;34m(\u001b[0m\u001b[0minput\u001b[0m\u001b[0;34m(\u001b[0m\u001b[0;34m'player1 move: '\u001b[0m\u001b[0;34m)\u001b[0m\u001b[0;34m)\u001b[0m\u001b[0;34m\u001b[0m\u001b[0m\n\u001b[1;32m      9\u001b[0m     \u001b[0;32mfor\u001b[0m \u001b[0mi\u001b[0m \u001b[0;32min\u001b[0m \u001b[0mboard\u001b[0m\u001b[0;34m:\u001b[0m\u001b[0;34m\u001b[0m\u001b[0m\n\u001b[0;32m---> 10\u001b[0;31m         \u001b[0mboard\u001b[0m\u001b[0;34m[\u001b[0m\u001b[0mi\u001b[0m\u001b[0;34m]\u001b[0m\u001b[0;34m.\u001b[0m\u001b[0mreplace\u001b[0m\u001b[0;34m(\u001b[0m\u001b[0mplyr1_move\u001b[0m\u001b[0;34m,\u001b[0m\u001b[0;34m'X'\u001b[0m\u001b[0;34m)\u001b[0m\u001b[0;34m\u001b[0m\u001b[0m\n\u001b[0m\u001b[1;32m     11\u001b[0m         \u001b[0mprint\u001b[0m\u001b[0;34m(\u001b[0m\u001b[0mboard\u001b[0m\u001b[0;34m)\u001b[0m\u001b[0;34m\u001b[0m\u001b[0m\n\u001b[1;32m     12\u001b[0m \u001b[0;34m\u001b[0m\u001b[0m\n",
      "\u001b[0;31mTypeError\u001b[0m: list indices must be integers or slices, not list"
     ]
    }
   ],
   "source": []
  },
  {
   "cell_type": "code",
   "execution_count": 31,
   "metadata": {},
   "outputs": [
    {
     "ename": "TypeError",
     "evalue": "list indices must be integers or slices, not list",
     "output_type": "error",
     "traceback": [
      "\u001b[0;31m---------------------------------------------------------------------------\u001b[0m",
      "\u001b[0;31mTypeError\u001b[0m                                 Traceback (most recent call last)",
      "\u001b[0;32m<ipython-input-31-7d13f72ab474>\u001b[0m in \u001b[0;36m<module>\u001b[0;34m()\u001b[0m\n\u001b[1;32m      2\u001b[0m \u001b[0muser\u001b[0m \u001b[0;34m=\u001b[0m \u001b[0;34m'1'\u001b[0m\u001b[0;34m\u001b[0m\u001b[0m\n\u001b[1;32m      3\u001b[0m \u001b[0;32mfor\u001b[0m \u001b[0mi\u001b[0m \u001b[0;32min\u001b[0m \u001b[0mboard\u001b[0m\u001b[0;34m:\u001b[0m\u001b[0;34m\u001b[0m\u001b[0m\n\u001b[0;32m----> 4\u001b[0;31m     \u001b[0mboard\u001b[0m\u001b[0;34m[\u001b[0m\u001b[0mi\u001b[0m\u001b[0;34m]\u001b[0m\u001b[0;34m.\u001b[0m\u001b[0mreplace\u001b[0m\u001b[0;34m(\u001b[0m\u001b[0muser\u001b[0m\u001b[0;34m,\u001b[0m\u001b[0;34m'X'\u001b[0m\u001b[0;34m)\u001b[0m\u001b[0;34m\u001b[0m\u001b[0m\n\u001b[0m",
      "\u001b[0;31mTypeError\u001b[0m: list indices must be integers or slices, not list"
     ]
    }
   ],
   "source": []
  },
  {
   "cell_type": "code",
   "execution_count": 39,
   "metadata": {
    "collapsed": true
   },
   "outputs": [],
   "source": [
    "import numpy as np\n"
   ]
  },
  {
   "cell_type": "code",
   "execution_count": 40,
   "metadata": {
    "collapsed": true
   },
   "outputs": [],
   "source": [
    "rr = np.arange(9).reshape(3, 3)"
   ]
  },
  {
   "cell_type": "code",
   "execution_count": 41,
   "metadata": {},
   "outputs": [
    {
     "name": "stdout",
     "output_type": "stream",
     "text": [
      "[[0 1 2]\n",
      " [3 4 5]\n",
      " [6 7 8]]\n"
     ]
    }
   ],
   "source": [
    "print(rr)"
   ]
  },
  {
   "cell_type": "code",
   "execution_count": null,
   "metadata": {
    "collapsed": true
   },
   "outputs": [],
   "source": []
  }
 ],
 "metadata": {
  "kernelspec": {
   "display_name": "Python 3",
   "language": "python",
   "name": "python3"
  },
  "language_info": {
   "codemirror_mode": {
    "name": "ipython",
    "version": 3
   },
   "file_extension": ".py",
   "mimetype": "text/x-python",
   "name": "python",
   "nbconvert_exporter": "python",
   "pygments_lexer": "ipython3",
   "version": "3.6.3"
  }
 },
 "nbformat": 4,
 "nbformat_minor": 2
}
