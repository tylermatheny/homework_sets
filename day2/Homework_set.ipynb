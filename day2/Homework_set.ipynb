{
 "cells": [
  {
   "cell_type": "markdown",
   "metadata": {},
   "source": [
    "# Homework Problem 1\n",
    "Write a script that takes a user inputted number and prints whether it is positive, negative or zero, with \"The inputted number is (positive/negative/zero)\" depending."
   ]
  },
  {
   "cell_type": "code",
   "execution_count": 3,
   "metadata": {},
   "outputs": [
    {
     "name": "stdout",
     "output_type": "stream",
     "text": [
      "Enter a number: -2\n",
      "negative\n"
     ]
    }
   ],
   "source": [
    "\n",
    "\n",
    "my_num = int(input('Enter a number: '))\n",
    "\n",
    "if my_num > 0:\n",
    "    print('positive')\n",
    "elif my_num < 0:\n",
    "    print('negative')\n",
    "else:\n",
    "    print('zero')"
   ]
  },
  {
   "cell_type": "markdown",
   "metadata": {},
   "source": [
    "# Homework Problem 2\n",
    "Write a script that takes two user inputted numbers and prints \"The first number is larger\" or \"The second number is larger\" depending on which is larger. (**Hint**: you'll need to use `input()` twice.)\n"
   ]
  },
  {
   "cell_type": "code",
   "execution_count": 6,
   "metadata": {},
   "outputs": [
    {
     "name": "stdout",
     "output_type": "stream",
     "text": [
      "Number 1: 10\n",
      "Neuber 2: 10\n",
      "The numbers are the same\n"
     ]
    }
   ],
   "source": [
    "x = int(input('Number 1: '))\n",
    "y = int(input('Neuber 2: '))\n",
    "\n",
    "if x > y:\n",
    "    print('The first number is bigger')\n",
    "elif x < y:\n",
    "    print('The second number is bigger')\n",
    "else: \n",
    "    print('The numbers are the same')\n",
    "    "
   ]
  },
  {
   "cell_type": "markdown",
   "metadata": {},
   "source": [
    "# Homework Problem 3\n",
    "\n",
    "Write a script that computes the sum from 0 to a user inputted number. This time though, start at the user inputted number and work down. This answer will look very much like the example above, you'll just need to change a couple of things."
   ]
  },
  {
   "cell_type": "code",
   "execution_count": 8,
   "metadata": {},
   "outputs": [
    {
     "name": "stdout",
     "output_type": "stream",
     "text": [
      "Enter a number: 90\n",
      "4095\n"
     ]
    }
   ],
   "source": [
    "my_num = int(input('Enter a number: '))\n",
    "current = my_num\n",
    "sum_result = 0\n",
    "while current > 0:\n",
    "    sum_result += current\n",
    "    current -= 1\n",
    "print(sum_result)"
   ]
  },
  {
   "cell_type": "markdown",
   "metadata": {},
   "source": [
    "# Homework Problem 4\n",
    "Write a script that computes the factorial of a user inputted number. Again, your solution is going to look a lot like the code above. Things you should think about:\n",
    "\n",
    "What is the process of computing a factorial if you were to compute it by hand?\n",
    "What is the common starting place when trying to compute the factorial of any number?"
   ]
  },
  {
   "cell_type": "code",
   "execution_count": 11,
   "metadata": {},
   "outputs": [
    {
     "name": "stdout",
     "output_type": "stream",
     "text": [
      "Factorial: 9\n",
      "362880\n"
     ]
    }
   ],
   "source": [
    "x = int(input('Factorial: '))\n",
    "factorial_result = 1\n",
    "\n",
    "while x >= 1:\n",
    "    factorial_result *= x\n",
    "    x -= 1\n",
    "print(factorial_result)\n"
   ]
  },
  {
   "cell_type": "markdown",
   "metadata": {},
   "source": [
    "# Homework Problem 5\n",
    "Write a script that computes and prints all of the divisors of a user inputted number. If you don't know what a divisor is or need a review, check out [this](https://en.wikipedia.org/wiki/Divisor) link. Things to think about:\n",
    "    * How do you determine if a single number is a divisor of another?\n",
    "    * How do you do this multiple times (**Hint**: it involves a while loop)?\n",
    "    * When do you stop the loop?<br><br>"
   ]
  },
  {
   "cell_type": "code",
   "execution_count": 15,
   "metadata": {},
   "outputs": [
    {
     "name": "stdout",
     "output_type": "stream",
     "text": [
      "Number: 27\n",
      "27\n",
      "9\n",
      "3\n",
      "1\n",
      "Done\n"
     ]
    }
   ],
   "source": [
    "y = int(input('Number: '))\n",
    "x = y\n",
    "while x >= 1:\n",
    "    if y % x == 0:\n",
    "        print(x)\n",
    "    x -= 1\n",
    "print('Done')"
   ]
  },
  {
   "cell_type": "markdown",
   "metadata": {},
   "source": [
    "# Homework Problem 6\n",
    "\n",
    "Write a script that computes the greatest common divisor between two user inputted numbers. If you don't know what a greatest common divisor is, check out [this](https://en.wikipedia.org/wiki/Greatest_common_divisor) link. Things to think about:\n",
    "    * How do you get two numbers from the user?\n",
    "    * Where should you start your search for the GCD?\n",
    "    * Where/how should you end your search?<br><br>"
   ]
  },
  {
   "cell_type": "code",
   "execution_count": 30,
   "metadata": {},
   "outputs": [
    {
     "name": "stdout",
     "output_type": "stream",
     "text": [
      "Number 1: 11\n",
      "Number 2: 2\n",
      "1\n"
     ]
    }
   ],
   "source": [
    "x = int(input('Number 1: '))\n",
    "y = int(input('Number 2: '))\n",
    "\n",
    "div = x\n",
    "if x > y:\n",
    "    div = y\n",
    "    \n",
    "while div > 0:\n",
    "    if x % div == 0 and y % div == 0:\n",
    "        print(div)\n",
    "        break  ### Without this break program would loop until div = zero\n",
    "    div -= 1\n",
    "\n",
    "\n",
    "    \n"
   ]
  },
  {
   "cell_type": "markdown",
   "metadata": {},
   "source": [
    "# Homework Problem 7\n",
    "\n",
    "Write a script that computes the least common multiple between two user inputted numbers. If you don't know what a least common multiple is or want a review check [this](https://en.wikipedia.org/wiki/Least_common_multiple) out. Things to think about:\n",
    "    * How do you get two numbers from the user?\n",
    "    * Where should you start your search for the LCM?\n",
    "    * Where/how should you end your search?<br><br>"
   ]
  },
  {
   "cell_type": "code",
   "execution_count": 34,
   "metadata": {},
   "outputs": [
    {
     "name": "stdout",
     "output_type": "stream",
     "text": [
      "number 1: 9\n",
      "number 2: 6\n",
      "18\n",
      "Done\n"
     ]
    }
   ],
   "source": [
    "x = int(input('number 1: '))\n",
    "y = int(input('number 2: '))\n",
    "\n",
    "LCM = x \n",
    "if y < x:\n",
    "    LCM = y\n",
    "\n",
    "while LCM > 0:\n",
    "    if LCM % x == 0 and LCM % y == 0:\n",
    "        print(LCM)\n",
    "        break\n",
    "    LCM += 1\n",
    "print('Done')"
   ]
  },
  {
   "cell_type": "markdown",
   "metadata": {},
   "source": [
    "# Homework Problem 8\n",
    "\n",
    "Write a script that determines whether or not a user inputted number is a prime number and prints `'The number you inputted is (not) a prime number.'` depending on what your script finds. If you don't know what a prime number is or need a review, check out [this](https://en.wikipedia.org/wiki/Prime_number) link. Things to think about:\n",
    "    * How do you check if a number is divisible by another number?\n",
    "    * What numbers are a prime number divisible by?\n",
    "    * How do you check all of the numbers a number could be divisible by (**Hint**: use a loop)?\n",
    "    * When do you stop the loop?<br><br>\n"
   ]
  },
  {
   "cell_type": "code",
   "execution_count": 46,
   "metadata": {},
   "outputs": [
    {
     "name": "stdout",
     "output_type": "stream",
     "text": [
      "number: 13\n",
      "Your number is prime\n"
     ]
    }
   ],
   "source": [
    "num = int(input('number: '))\n",
    "\n",
    "prime_test = num - 1\n",
    "\n",
    "prime = True\n",
    "while prime_test > 1:\n",
    "    if num % prime_test == 0:\n",
    "        prime = False\n",
    "        break\n",
    "    prime_test -= 1\n",
    "\n",
    "if prime:\n",
    "    print('Your number is prime')\n",
    "else:\n",
    "    print('Your number is not prime')\n"
   ]
  },
  {
   "cell_type": "markdown",
   "metadata": {
    "collapsed": true
   },
   "source": [
    "# Homework Problem \n",
    "\n",
    "One can use loops to compute the elements of a mathematical series. Series can be defined recursively with the value of each element depending on the one that comes before it. Consider the series created by the rules:\n",
    "\n",
    "    ![series](misc/series_pic.png)\n",
    "\n",
    "    Write a script that prints the `nth` element in the series as determined by input from the user. e.g. If the user inputs the number `3`, your script should print "
   ]
  },
  {
   "cell_type": "code",
   "execution_count": 13,
   "metadata": {},
   "outputs": [
    {
     "name": "stdout",
     "output_type": "stream",
     "text": [
      "Enter string: 3\n",
      "15\n"
     ]
    }
   ],
   "source": [
    "\n",
    "b = int(input('Enter string: '))\n",
    "\n",
    "a = 1\n",
    "idx = 0\n",
    "\n",
    "while idx < b:\n",
    "    a = a * 2 + 1\n",
    "    idx += 1\n",
    "\n",
    "print(a)"
   ]
  },
  {
   "cell_type": "markdown",
   "metadata": {},
   "source": [
    "# Homework Problem 10\n",
    "\n",
    "Challenge: solve the equation:\n",
    "\n",
    "(a + (b - c) * d - e) * f = 75\n",
    "\n",
    "where a, b, c, d, e, and f are unique integers in the range [1, 6].\n",
    "\n",
    "Hints:\n",
    "\n",
    "Computers are so fast that your program can simply try all possible valid values of a, b, c, d, e, and f until it finds one permutation of 1-6 that solves the challenge! (Btw, there is only one permutation that will solve it.)\n",
    "Use 6 nested for-loops to enumerate all ways of setting each of a, b, c, d, e, and f to the values 1-6.\n",
    "Use if-statements to ensure all values of a, b, c, d, e, and f are valid. (I.e. to ensure that each value is unique)\n",
    "Use an if-statement to test if the current permutation solves the challenge.\n"
   ]
  },
  {
   "cell_type": "code",
   "execution_count": 43,
   "metadata": {},
   "outputs": [
    {
     "name": "stdout",
     "output_type": "stream",
     "text": [
      "found: 4 6 2 3 1 5\n"
     ]
    }
   ],
   "source": [
    "set1 = set([1,2,3,4,5,6])  #solves the problem for all unique iteration\n",
    "\n",
    "for a in set1:\n",
    "    for b in set1 - set([a]):\n",
    "        for c in set1 - set([a,b]):\n",
    "            for d in set1 - set([a,b,c]):\n",
    "                for e in set1 - set([a,b,c,d]):\n",
    "                    for f in set1 - set([a,b,c,d,e]):\n",
    "                        if (a + (b - c)*d - e)*f == 75:\n",
    "                            print('found:', a, b, c, d, e, f)\n",
    "                                                     "
   ]
  },
  {
   "cell_type": "code",
   "execution_count": 39,
   "metadata": {},
   "outputs": [
    {
     "name": "stdout",
     "output_type": "stream",
     "text": [
      "found: 1 4 1 5 1 5\n",
      "found: 1 4 1 6 4 5\n",
      "found: 1 5 1 4 2 5\n",
      "found: 1 5 1 5 6 5\n",
      "found: 1 5 2 5 1 5\n",
      "found: 1 5 2 6 4 5\n",
      "found: 1 6 1 3 1 5\n",
      "found: 1 6 1 4 6 5\n",
      "found: 1 6 1 5 1 3\n",
      "found: 1 6 1 6 6 3\n",
      "found: 1 6 2 4 2 5\n",
      "found: 1 6 2 5 6 5\n",
      "found: 1 6 3 5 1 5\n",
      "found: 1 6 3 6 4 5\n",
      "found: 2 4 1 5 2 5\n",
      "found: 2 4 1 6 5 5\n",
      "found: 2 5 1 4 3 5\n",
      "found: 2 5 1 6 1 3\n",
      "found: 2 5 2 5 2 5\n",
      "found: 2 5 2 6 5 5\n",
      "found: 2 6 1 3 2 5\n",
      "found: 2 6 1 5 2 3\n",
      "found: 2 6 2 4 3 5\n",
      "found: 2 6 2 6 1 3\n",
      "found: 2 6 3 5 2 5\n",
      "found: 2 6 3 6 5 5\n",
      "found: 3 4 1 5 3 5\n",
      "found: 3 4 1 6 6 5\n",
      "found: 3 5 1 4 4 5\n",
      "found: 3 5 1 6 2 3\n",
      "found: 3 5 2 5 3 5\n",
      "found: 3 5 2 6 6 5\n",
      "found: 3 6 1 3 3 5\n",
      "found: 3 6 1 5 3 3\n",
      "found: 3 6 2 4 4 5\n",
      "found: 3 6 2 6 2 3\n",
      "found: 3 6 3 5 3 5\n",
      "found: 3 6 3 6 6 5\n",
      "found: 4 3 1 6 1 5\n",
      "found: 4 4 1 4 1 5\n",
      "found: 4 4 1 5 4 5\n",
      "found: 4 4 2 6 1 5\n",
      "found: 4 5 1 3 1 5\n",
      "found: 4 5 1 4 5 5\n",
      "found: 4 5 1 6 3 3\n",
      "found: 4 5 2 4 1 5\n",
      "found: 4 5 2 5 4 5\n",
      "found: 4 5 3 6 1 5\n",
      "found: 4 6 1 3 4 5\n",
      "found: 4 6 1 5 4 3\n",
      "found: 4 6 2 3 1 5\n",
      "found: 4 6 2 4 5 5\n",
      "found: 4 6 2 6 3 3\n",
      "found: 4 6 3 4 1 5\n",
      "found: 4 6 3 5 4 5\n",
      "found: 4 6 4 6 1 5\n",
      "found: 5 3 1 6 2 5\n",
      "found: 5 4 1 4 2 5\n",
      "found: 5 4 1 5 5 5\n",
      "found: 5 4 2 6 2 5\n",
      "found: 5 5 1 3 2 5\n",
      "found: 5 5 1 4 6 5\n",
      "found: 5 5 1 6 4 3\n",
      "found: 5 5 2 4 2 5\n",
      "found: 5 5 2 5 5 5\n",
      "found: 5 5 3 6 2 5\n",
      "found: 5 6 1 3 5 5\n",
      "found: 5 6 1 5 5 3\n",
      "found: 5 6 2 3 2 5\n",
      "found: 5 6 2 4 6 5\n",
      "found: 5 6 2 6 4 3\n",
      "found: 5 6 3 4 2 5\n",
      "found: 5 6 3 5 5 5\n",
      "found: 5 6 4 6 2 5\n",
      "found: 6 3 1 5 1 5\n",
      "found: 6 3 1 6 3 5\n",
      "found: 6 4 1 4 3 5\n",
      "found: 6 4 1 5 6 5\n",
      "found: 6 4 2 5 1 5\n",
      "found: 6 4 2 6 3 5\n",
      "found: 6 5 1 3 3 5\n",
      "found: 6 5 1 5 1 3\n",
      "found: 6 5 1 6 5 3\n",
      "found: 6 5 2 4 3 5\n",
      "found: 6 5 2 5 6 5\n",
      "found: 6 5 3 5 1 5\n",
      "found: 6 5 3 6 3 5\n",
      "found: 6 6 1 2 1 5\n",
      "found: 6 6 1 3 6 5\n",
      "found: 6 6 1 4 1 3\n",
      "found: 6 6 1 5 6 3\n",
      "found: 6 6 2 3 3 5\n",
      "found: 6 6 2 5 1 3\n",
      "found: 6 6 2 6 5 3\n",
      "found: 6 6 3 4 3 5\n",
      "found: 6 6 3 5 6 5\n",
      "found: 6 6 4 5 1 5\n",
      "found: 6 6 4 6 3 5\n"
     ]
    }
   ],
   "source": [
    "set1 = set([1,2,3,4,5,6]) \n",
    "\n",
    "for a in set1:\n",
    "    for b in set1:\n",
    "        for c in set1:\n",
    "            for d in set1:\n",
    "                for e in set1:\n",
    "                    for f in set1:\n",
    "                        if (a + (b - c)*d - e)*f == 75:\n",
    "                            print('found:', a, b, c, d, e, f)"
   ]
  },
  {
   "cell_type": "code",
   "execution_count": null,
   "metadata": {
    "collapsed": true
   },
   "outputs": [],
   "source": []
  }
 ],
 "metadata": {
  "kernelspec": {
   "display_name": "Python 3",
   "language": "python",
   "name": "python3"
  },
  "language_info": {
   "codemirror_mode": {
    "name": "ipython",
    "version": 3
   },
   "file_extension": ".py",
   "mimetype": "text/x-python",
   "name": "python",
   "nbconvert_exporter": "python",
   "pygments_lexer": "ipython3",
   "version": "3.6.3"
  }
 },
 "nbformat": 4,
 "nbformat_minor": 2
}
