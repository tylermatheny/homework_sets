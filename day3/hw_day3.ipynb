{
 "cells": [
  {
   "cell_type": "markdown",
   "metadata": {},
   "source": [
    "# Homework Set 3"
   ]
  },
  {
   "cell_type": "markdown",
   "metadata": {},
   "source": [
    "## Part 1 - Practice with For Loops\n",
    "\n",
    "For the first part here, take a couple of the scripts we wrote in the intro_python_assignment.md in Week 1, Day 2, and change them from using while loops to using for loops. Start out and just do the first two (for extra practice you could do this with the rest of the problems we worked through):\n",
    "\n",
    "Write a script that computes and prints the factorial of a user inputted number.\n",
    "Write a script that determines whether or not a user inputted number is a prime and prints 'The number you inputted is a prime/ not a prime number.' depending on what your script finds.\n",
    "Remember, the goal is to write these by using for loops."
   ]
  },
  {
   "cell_type": "markdown",
   "metadata": {},
   "source": [
    "** This was the old code (while loop) **"
   ]
  },
  {
   "cell_type": "code",
   "execution_count": 1,
   "metadata": {},
   "outputs": [
    {
     "name": "stdout",
     "output_type": "stream",
     "text": [
      "Enter a number: 9\n",
      "45\n"
     ]
    }
   ],
   "source": [
    "my_num = int(input('Enter a number: '))\n",
    "current = my_num\n",
    "sum_result = 0\n",
    "while current > 0:\n",
    "    sum_result += current\n",
    "    current -= 1\n",
    "print(sum_result)"
   ]
  },
  {
   "cell_type": "markdown",
   "metadata": {},
   "source": [
    "** This is the new code (for loop)**"
   ]
  },
  {
   "cell_type": "code",
   "execution_count": 5,
   "metadata": {},
   "outputs": [
    {
     "name": "stdout",
     "output_type": "stream",
     "text": [
      "Enter a number: 9\n",
      "45\n"
     ]
    }
   ],
   "source": [
    "my_num = int(input('Enter a number: '))\n",
    "sum_result = 0\n",
    "for num in range(1,my_num +1):\n",
    "    sum_result += num\n",
    "    \n",
    "print(sum_result)"
   ]
  },
  {
   "cell_type": "markdown",
   "metadata": {},
   "source": [
    "** This is a factorial using a for loop **"
   ]
  },
  {
   "cell_type": "code",
   "execution_count": 10,
   "metadata": {},
   "outputs": [
    {
     "name": "stdout",
     "output_type": "stream",
     "text": [
      "Factorial: 9\n",
      "362880\n"
     ]
    }
   ],
   "source": [
    "fac = int(input('Factorial: '))\n",
    "factorial_result = 1\n",
    "\n",
    "for x in range(1, fac + 1):\n",
    "    factorial_result *= x\n",
    "print(factorial_result)\n"
   ]
  },
  {
   "cell_type": "code",
   "execution_count": 11,
   "metadata": {},
   "outputs": [
    {
     "name": "stdout",
     "output_type": "stream",
     "text": [
      "number: 13\n",
      "Your number is prime\n"
     ]
    }
   ],
   "source": [
    "num = int(input('number: '))\n",
    "\n",
    "prime_test = num - 1\n",
    "\n",
    "prime = True\n",
    "while prime_test > 1:\n",
    "    if num % prime_test == 0:\n",
    "        prime = False\n",
    "        break\n",
    "    prime_test -= 1\n",
    "\n",
    "if prime:\n",
    "    print('Your number is prime')\n",
    "else:\n",
    "    print('Your number is not prime')\n"
   ]
  },
  {
   "cell_type": "code",
   "execution_count": 30,
   "metadata": {},
   "outputs": [
    {
     "name": "stdout",
     "output_type": "stream",
     "text": [
      "number: 326871052357\n",
      "Your number is not prime\n"
     ]
    }
   ],
   "source": [
    "prime_test = int(input('number: '))\n",
    "\n",
    "prime = True\n",
    "for num in range(2, prime_test):\n",
    "    if prime_test % num == 0:\n",
    "        prime = False\n",
    "        break\n",
    "    else:\n",
    "        prime = True\n",
    "\n",
    "if prime == True:\n",
    "    print('Your number is prime')    \n",
    "if prime == False:\n",
    "    print('Your number is not prime')"
   ]
  },
  {
   "cell_type": "markdown",
   "metadata": {},
   "source": [
    "# Part 2 - Practice with Strings\n",
    "\n",
    "Now you're going to work with strings, along with your knowledge of for loops and iteration. Remember that you can tab complete to find helpful methods that you can use to operate on strings! For some of these problems, you may not use anything new, but for others, there may be a helpful string method. As a last note, just like with many programming problems, there will be multiple ways to solve these problems.\n",
    "\n",
    "\n",
    "Write a script that checks if a user inputted string ends in an exclamation point. If it does, then print the string in all capital letters. If it doesn't, print the string in all lowercase letters.\n",
    "Write a script that removes all of the vowels in a user inputted string.\n",
    "Write a script that makes every other letter of a user inputted string capitalized.\n"
   ]
  },
  {
   "cell_type": "markdown",
   "metadata": {},
   "source": [
    "** Write a script that obtains the count of a user inputted letter in a user inputted string (Hint: Use input() twice to get both of the user inputs). Make sure to build this in such a way that it ignores the case of the inputted string and letter. **"
   ]
  },
  {
   "cell_type": "code",
   "execution_count": 37,
   "metadata": {},
   "outputs": [
    {
     "name": "stdout",
     "output_type": "stream",
     "text": [
      "Enter a word: GBZBADFBAfdhreh\n",
      "Enter a letter: b\n",
      "3\n"
     ]
    }
   ],
   "source": [
    "word = input('Enter a word: ')\n",
    "letter = input('Enter a letter: ')\n",
    "\n",
    "new_word = word.lower()\n",
    "new_letter = letter.lower()\n",
    "print(new_word.count(letter))\n"
   ]
  },
  {
   "cell_type": "markdown",
   "metadata": {},
   "source": [
    "** Write a script that checks if a user inputted string ends in an exclamation point. If it does, then print the string in all capital letters. If it doesn't, print the string in all lowercase letters. **"
   ]
  },
  {
   "cell_type": "code",
   "execution_count": 40,
   "metadata": {},
   "outputs": [
    {
     "name": "stdout",
     "output_type": "stream",
     "text": [
      "Enter a string: SHUT UP\n",
      "shut up\n"
     ]
    }
   ],
   "source": [
    "my_str = input('Enter a string: ')\n",
    "if my_str[-1] == '!':\n",
    "    print(my_str.upper())\n",
    "else:\n",
    "    print(my_str.lower())"
   ]
  },
  {
   "cell_type": "markdown",
   "metadata": {},
   "source": [
    "** Write a script that removes all of the vowels in a user inputted string. **"
   ]
  },
  {
   "cell_type": "code",
   "execution_count": 50,
   "metadata": {},
   "outputs": [
    {
     "name": "stdout",
     "output_type": "stream",
     "text": [
      "Enter a string: pretty cool\n",
      "prtt cl\n"
     ]
    }
   ],
   "source": [
    "usr_str = input('Enter a string: ')\n",
    "vowels = {'a', 'e', 'i','o','u','y'}\n",
    "for vowel in vowels:\n",
    "    usr_str = usr_str.replace(vowel,\"\")\n",
    "print(usr_str)"
   ]
  },
  {
   "cell_type": "markdown",
   "metadata": {},
   "source": [
    "** Write a script that makes every other letter of a user inputted string capitalized. **"
   ]
  },
  {
   "cell_type": "code",
   "execution_count": 62,
   "metadata": {},
   "outputs": [
    {
     "name": "stdout",
     "output_type": "stream",
     "text": [
      "Enter a string: njeafbv;je\n",
      "nJeAfBv;jE\n"
     ]
    }
   ],
   "source": [
    "user_str = input('Enter a string: ')  ### This is a really elegant example\n",
    "\n",
    "empty_lst = []\n",
    "for idx, char in enumerate(user_str):\n",
    "    if idx % 2 != 0:\n",
    "        empty_lst.append(char.upper())\n",
    "    else:\n",
    "        empty_lst.append(char.lower())\n",
    "\n",
    "\n",
    "output_str = ''.join(empty_lst)\n",
    "\n",
    "print(output_str)"
   ]
  },
  {
   "cell_type": "markdown",
   "metadata": {},
   "source": [
    "# Part 3 - Practice with Lists\n",
    "\n",
    "Write a script that creates a list of only the even numbers between 0 and a user inputted number.\n",
    "Write a script that creates a list of only numbers divisible by a user inputted number that are between 0 and a user inputted number (Hint: Use input() twice to get both of the user inputs).\n",
    "Given the list [0, 3, 6, 9, 10, 2, 5] and [2, 6, 4, 7, 8, 1, 15], write a script that finds the common elements between them. Store them in a list, and print that list, sorted, as the final output (if you'd like you can go ahead and hard code those lists in your script).\n",
    "For a user inputted number, write a script that outputs a list of multiples of that number from 0 up to another user inputted number. For example, given the numbers 4 and 20, your script should print the numbers 4, 8, 12, and 16."
   ]
  },
  {
   "cell_type": "code",
   "execution_count": 74,
   "metadata": {},
   "outputs": [
    {
     "name": "stdout",
     "output_type": "stream",
     "text": [
      "Enter a number: 88\n",
      "['0', '2', '4', '6', '8', '10', '12', '14', '16', '18', '20', '22', '24', '26', '28', '30', '32', '34', '36', '38', '40', '42', '44', '46', '48', '50', '52', '54', '56', '58', '60', '62', '64', '66', '68', '70', '72', '74', '76', '78', '80', '82', '84', '86', '88']\n"
     ]
    }
   ],
   "source": [
    "usr_number = int(input('Enter a number: '))\n",
    "\n",
    "usr_list = []\n",
    "\n",
    "for x in range(0,usr_number +1):\n",
    "    if x % 2 ==0:\n",
    "        y = str(x)\n",
    "        usr_list.append(y)\n",
    "print(usr_list)"
   ]
  },
  {
   "cell_type": "markdown",
   "metadata": {},
   "source": [
    "Write a script that creates a list of only numbers divisible by a user inputted number that are between 0 and a user inputted number (Hint: Use input() twice to get both of the user inputs)."
   ]
  },
  {
   "cell_type": "code",
   "execution_count": 75,
   "metadata": {},
   "outputs": [
    {
     "name": "stdout",
     "output_type": "stream",
     "text": [
      "Enter a number: 60\n",
      "Enter a divisor: 2\n",
      "['0', '2', '4', '6', '8', '10', '12', '14', '16', '18', '20', '22', '24', '26', '28', '30', '32', '34', '36', '38', '40', '42', '44', '46', '48', '50', '52', '54', '56', '58', '60']\n"
     ]
    }
   ],
   "source": [
    "usr_number = int(input('Enter a number: '))\n",
    "div_number = int(input('Enter a divisor: '))\n",
    "\n",
    "usr_list = []\n",
    "\n",
    "for x in range(0,usr_number +1):\n",
    "    if x % div_number ==0:\n",
    "        y = str(x)\n",
    "        usr_list.append(y)\n",
    "print(usr_list)"
   ]
  },
  {
   "cell_type": "markdown",
   "metadata": {},
   "source": [
    "Given the list [0, 3, 6, 9, 10, 2, 5] and [2, 6, 4, 7, 8, 1, 15], write a script that finds the common elements between them. Store them in a list, and print that list, sorted, as the final output (if you'd like you can go ahead and hard code those lists in your script)."
   ]
  },
  {
   "cell_type": "code",
   "execution_count": 93,
   "metadata": {},
   "outputs": [
    {
     "name": "stdout",
     "output_type": "stream",
     "text": [
      "[2, 6]\n"
     ]
    }
   ],
   "source": [
    "LST1 = [0, 3, 6, 9 , 10, 2, 5]\n",
    "LST2 = [2, 6, 4, 7, 8, 1, 15]\n",
    "new_lst = []\n",
    "for char in LST1:\n",
    "    if char in LST2: \n",
    "        new_lst.append(char)\n",
    "new_lst.sort()    \n",
    "print(new_lst)"
   ]
  },
  {
   "cell_type": "markdown",
   "metadata": {},
   "source": [
    "For a user inputted number, write a script that outputs a list of multiples of that number from 0 up to another user inputted number. For example, given the numbers 4 and 20, your script should print the numbers 4, 8, 12, and 16."
   ]
  },
  {
   "cell_type": "code",
   "execution_count": null,
   "metadata": {
    "collapsed": true
   },
   "outputs": [],
   "source": []
  }
 ],
 "metadata": {
  "kernelspec": {
   "display_name": "Python 3",
   "language": "python",
   "name": "python3"
  },
  "language_info": {
   "codemirror_mode": {
    "name": "ipython",
    "version": 3
   },
   "file_extension": ".py",
   "mimetype": "text/x-python",
   "name": "python",
   "nbconvert_exporter": "python",
   "pygments_lexer": "ipython3",
   "version": "3.6.3"
  }
 },
 "nbformat": 4,
 "nbformat_minor": 2
}
